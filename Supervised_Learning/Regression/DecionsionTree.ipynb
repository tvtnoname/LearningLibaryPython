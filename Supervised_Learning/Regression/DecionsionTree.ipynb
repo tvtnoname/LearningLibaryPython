{
 "cells": [
  {
   "cell_type": "code",
   "execution_count": 5,
   "id": "34ab7765",
   "metadata": {},
   "outputs": [],
   "source": [
    "# Chuẩn bị môi trường\n",
    "import pandas as pd\n",
    "from sklearn.datasets import fetch_california_housing\n",
    "from sklearn.model_selection import train_test_split\n",
    "from sklearn.tree import DecisionTreeClassifier\n",
    "from sklearn.metrics import accuracy_score"
   ]
  },
  {
   "cell_type": "code",
   "execution_count": null,
   "id": "5d865fb9",
   "metadata": {},
   "outputs": [
    {
     "name": "stdout",
     "output_type": "stream",
     "text": [
      "Các dòng có gía trị trùng lặp\n",
      "0\n"
     ]
    }
   ],
   "source": [
    "# Bước 1: Chuẩn bị bôj dữ liệu\n",
    "X = pd.DataFrame(data=fetch_california_housing().data, columns=fetch_california_housing().feature_names)\n",
    "y = pd.Series(data=fetch_california_housing().target)\n",
    "\n",
    "X[\"MedHouseVal\"] = y\n",
    "\n",
    "print(\"Hiển thị thông tin X ban đầu:\")\n",
    "print(X.info())\n",
    "\n",
    "print(\"Hiển thị 5 dòng đầu tiên của X:\")\n",
    "print(X.head())\n",
    "\n",
    "print(\"Các dòng có gía trị null\")\n",
    "print(X.isnull().sum())\n",
    "\n",
    "print(\"Các dòng có gía trị trùng lặp\")\n",
    "print(X.duplicated().sum())"
   ]
  }
 ],
 "metadata": {
  "kernelspec": {
   "display_name": "machine_learning",
   "language": "python",
   "name": "python3"
  },
  "language_info": {
   "codemirror_mode": {
    "name": "ipython",
    "version": 3
   },
   "file_extension": ".py",
   "mimetype": "text/x-python",
   "name": "python",
   "nbconvert_exporter": "python",
   "pygments_lexer": "ipython3",
   "version": "3.13.7"
  }
 },
 "nbformat": 4,
 "nbformat_minor": 5
}
