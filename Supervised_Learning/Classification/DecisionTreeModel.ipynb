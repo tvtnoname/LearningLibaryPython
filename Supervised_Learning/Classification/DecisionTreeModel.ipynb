{
 "cells": [
  {
   "cell_type": "code",
   "execution_count": null,
   "id": "a01247f6",
   "metadata": {},
   "outputs": [],
   "source": [
    "import pandas as pd\n",
    "from sklearn.datasets import load_iris\n",
    "from sklearn.model_selection import train_test_split\n",
    "from sklearn.tree import DecisionTreeClassifier\n",
    "from sklearn.metrics import accuracy_score"
   ]
  },
  {
   "cell_type": "code",
   "execution_count": 5,
   "id": "5dafe9d6",
   "metadata": {},
   "outputs": [
    {
     "name": "stdout",
     "output_type": "stream",
     "text": [
      "Tổng số mẫu dữ liệu ban đầu: 150\n",
      "Số lượng đặc trưng ban đầu: 4\n",
      "Các lớp (loài hoa) ban đầu: ['setosa' 'versicolor' 'virginica']\n",
      "Số lượng các hàng lặp lại: \n",
      "sepal length (cm)  sepal width (cm)  petal length (cm)  petal width (cm)  species   \n",
      "5.8                2.7               5.1                1.9               virginica     2\n",
      "6.2                2.2               4.5                1.5               versicolor    1\n",
      "                   2.9               4.3                1.3               versicolor    1\n",
      "                   3.4               5.4                2.3               virginica     1\n",
      "6.3                2.3               4.4                1.3               versicolor    1\n",
      "                                                                                       ..\n",
      "5.4                3.9               1.3                0.4               setosa        1\n",
      "                                     1.7                0.4               setosa        1\n",
      "5.5                2.3               4.0                1.3               versicolor    1\n",
      "                   2.4               3.7                1.0               versicolor    1\n",
      "7.9                3.8               6.4                2.0               virginica     1\n",
      "Name: count, Length: 149, dtype: int64\n",
      "Xoá các hàng trùng lặp...\n",
      "Số lượng cột bị thiếu dữ liệu:\n",
      "sepal length (cm)    0\n",
      "sepal width (cm)     0\n",
      "petal length (cm)    0\n",
      "petal width (cm)     0\n",
      "species              0\n",
      "dtype: int64\n",
      "Thông tin về dữ liệu:\n",
      "<class 'pandas.core.frame.DataFrame'>\n",
      "Index: 149 entries, 0 to 149\n",
      "Data columns (total 5 columns):\n",
      " #   Column             Non-Null Count  Dtype  \n",
      "---  ------             --------------  -----  \n",
      " 0   sepal length (cm)  149 non-null    float64\n",
      " 1   sepal width (cm)   149 non-null    float64\n",
      " 2   petal length (cm)  149 non-null    float64\n",
      " 3   petal width (cm)   149 non-null    float64\n",
      " 4   species            149 non-null    object \n",
      "dtypes: float64(4), object(1)\n",
      "memory usage: 7.0+ KB\n",
      "Tổng số mẫu dữ liệu sau khi làm sạch: 149\n",
      "Số lượng đặc trưng sau khi làm sạch: 4\n",
      "Các lớp (loài hoa) sau khi làm sạch: ['setosa' 'versicolor' 'virginica']\n",
      "Cột y: <class 'numpy.ndarray'>\n"
     ]
    }
   ],
   "source": [
    "# --- 1. Tải bộ dữ liệu Iris có sẵn ---\n",
    "iris = load_iris()\n",
    "X_temp = iris.data\n",
    "y_temp = iris.target\n",
    "\n",
    "print(f\"Tổng số mẫu dữ liệu ban đầu: {len(X_temp)}\")\n",
    "print(f\"Số lượng đặc trưng ban đầu: {X_temp.shape[1]}\")\n",
    "print(f\"Các lớp (loài hoa) ban đầu: {iris.target_names}\")\n",
    "\n",
    "df = pd.DataFrame(data=X_temp, columns=iris.feature_names)\n",
    "df[\"species\"] = iris.target_names[y_temp]\n",
    "\n",
    "print(\"Số lượng các hàng lặp lại: \")\n",
    "print(df[:].value_counts())\n",
    "\n",
    "# Xoá hàng trùng lặp\n",
    "print(\"Xoá các hàng trùng lặp...\")\n",
    "df.drop_duplicates(inplace=True)\n",
    "\n",
    "print(\"Số lượng cột bị thiếu dữ liệu:\")\n",
    "print(df.isnull().sum())\n",
    "\n",
    "print(\"Thông tin về dữ liệu:\")\n",
    "df.info()\n",
    "\n",
    "# Tách dữ liệu thành X và y\n",
    "X = df.iloc[:, :-1].values  # Tất cả các cột ngoại trừ cột cuối cùng\n",
    "y = df.iloc[:, -1].values   # Chỉ cột cuối cùng\n",
    "\n",
    "print(f\"Tổng số mẫu dữ liệu sau khi làm sạch: {len(X)}\")\n",
    "print(f\"Số lượng đặc trưng sau khi làm sạch: {X.shape[1]}\")\n",
    "print(f\"Các lớp (loài hoa) sau khi làm sạch: {iris.target_names}\")\n",
    "print(\"Cột y:\", type(y))"
   ]
  },
  {
   "cell_type": "code",
   "execution_count": 6,
   "id": "d0e013a1",
   "metadata": {},
   "outputs": [
    {
     "name": "stdout",
     "output_type": "stream",
     "text": [
      "--- Kích thước các tập dữ liệu ---\n",
      "Tập huấn luyện (Train): 119 mẫu\n",
      "Tập kiểm tra (Test):    30 mẫu\n"
     ]
    }
   ],
   "source": [
    "# --- 2. Chia dữ liệu thành tập huấn luyện (80%) và tập kiểm tra (20%) ---\n",
    "# train_test_split là bước cơ bản và phổ biến nhất\n",
    "X_train, X_test, y_train, y_test = train_test_split(\n",
    "    X, y, \n",
    "    test_size=0.2,      # 20% dữ liệu sẽ được dùng để kiểm tra\n",
    "    random_state=42,    # Đảm bảo kết quả chia luôn giống nhau mỗi lần chạy\n",
    "    stratify=y          # Giữ tỷ lệ các loài hoa trong cả hai tập\n",
    ")\n",
    "\n",
    "print(\"--- Kích thước các tập dữ liệu ---\")\n",
    "print(f\"Tập huấn luyện (Train): {len(X_train)} mẫu\")\n",
    "print(f\"Tập kiểm tra (Test):    {len(X_test)} mẫu\")\n"
   ]
  },
  {
   "cell_type": "code",
   "execution_count": 7,
   "id": "92ae8efb",
   "metadata": {},
   "outputs": [
    {
     "name": "stdout",
     "output_type": "stream",
     "text": [
      "\n",
      "--- Bắt đầu huấn luyện ---\n",
      "Huấn luyện hoàn tất!\n"
     ]
    }
   ],
   "source": [
    "# --- 3. Huấn luyện mô hình trên tập HUẤN LUYỆN ---\n",
    "print(\"\\n--- Bắt đầu huấn luyện ---\")\n",
    "# Khởi tạo mô hình Cây quyết định\n",
    "model = DecisionTreeClassifier(random_state=42)\n",
    "# Dạy cho mô hình bằng dữ liệu huấn luyện\n",
    "model.fit(X_train, y_train)\n",
    "print(\"Huấn luyện hoàn tất!\")"
   ]
  },
  {
   "cell_type": "code",
   "execution_count": null,
   "id": "62b7640d",
   "metadata": {},
   "outputs": [
    {
     "name": "stdout",
     "output_type": "stream",
     "text": [
      "\n",
      "--- Đánh giá mô hình ---\n",
      "Độ chính xác trên tập kiểm tra: 93.33%\n",
      "\n",
      "--- Chi tiết đánh giá mô hình ---\n",
      "\n",
      "Confusion Matrix:\n",
      "[[10  0  0]\n",
      " [ 0  9  1]\n",
      " [ 0  1  9]]\n",
      "\n",
      "Classification Report:\n",
      "              precision    recall  f1-score   support\n",
      "\n",
      "      setosa       1.00      1.00      1.00        10\n",
      "  versicolor       0.90      0.90      0.90        10\n",
      "   virginica       0.90      0.90      0.90        10\n",
      "\n",
      "    accuracy                           0.93        30\n",
      "   macro avg       0.93      0.93      0.93        30\n",
      "weighted avg       0.93      0.93      0.93        30\n",
      "\n",
      "\n",
      "Độ chính xác qua 5-fold cross validation:\n",
      "Mean: 0.95 (+/- 0.07)\n"
     ]
    }
   ],
   "source": [
    "# --- 4. Đánh giá mô hình trên tập KIỂM TRA ---\n",
    "print(\"\\n--- Đánh giá mô hình ---\")\n",
    "# Yêu cầu mô hình dự đoán trên dữ liệu nó chưa từng thấy\n",
    "y_pred = model.predict(X_test)\n",
    "# So sánh dự đoán với kết quả thật để tính độ chính xác\n",
    "accuracy = accuracy_score(y_test, y_pred)\n",
    "\n",
    "print(f\"Độ chính xác trên tập kiểm tra: {accuracy * 100:.2f}%\")"
   ]
  },
  {
   "cell_type": "code",
   "execution_count": 9,
   "id": "ec7c1111",
   "metadata": {},
   "outputs": [
    {
     "name": "stdout",
     "output_type": "stream",
     "text": [
      "Typele of prediction_index: <class 'str'>\n",
      "\n",
      "Dự đoán cho bông hoa mới: Loài 'virginica'\n"
     ]
    }
   ],
   "source": [
    "# --- 5. Thử dự đoán một bông hoa mới ---\n",
    "# Đặc trưng: [chiều dài đài, rộng đài, dài cánh, rộng cánh]\n",
    "# Đây là đặc trưng của loài 'virginica'\n",
    "new_flower = [[5.9, 3.0, 5.1, 1.8]] \n",
    "\n",
    "# Lấy kết quả dự đoán (lấy phần tử đầu tiên vì chỉ có 1 dự đoán)\n",
    "prediction_index = model.predict(new_flower)[0]\n",
    "print(\"Typele of prediction_index:\", type(prediction_index))\n",
    "\n",
    "print(f\"\\nDự đoán cho bông hoa mới: Loài '{prediction_index}'\")"
   ]
  }
 ],
 "metadata": {
  "kernelspec": {
   "display_name": "machine_learning",
   "language": "python",
   "name": "python3"
  },
  "language_info": {
   "codemirror_mode": {
    "name": "ipython",
    "version": 3
   },
   "file_extension": ".py",
   "mimetype": "text/x-python",
   "name": "python",
   "nbconvert_exporter": "python",
   "pygments_lexer": "ipython3",
   "version": "3.13.7"
  }
 },
 "nbformat": 4,
 "nbformat_minor": 5
}
